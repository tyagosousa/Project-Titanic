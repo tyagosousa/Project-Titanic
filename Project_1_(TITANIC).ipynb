{
  "nbformat": 4,
  "nbformat_minor": 0,
  "metadata": {
    "colab": {
      "provenance": [],
      "authorship_tag": "ABX9TyOBt6Hikl+at2ZI0SxR1d4E",
      "include_colab_link": true
    },
    "kernelspec": {
      "name": "python3",
      "display_name": "Python 3"
    },
    "language_info": {
      "name": "python"
    }
  },
  "cells": [
    {
      "cell_type": "markdown",
      "metadata": {
        "id": "view-in-github",
        "colab_type": "text"
      },
      "source": [
        "<a href=\"https://colab.research.google.com/github/tyagosousa/Projeto-Titanic/blob/main/Project_1_(TITANIC).ipynb\" target=\"_parent\"><img src=\"https://colab.research.google.com/assets/colab-badge.svg\" alt=\"Open In Colab\"/></a>"
      ]
    },
    {
      "cell_type": "code",
      "execution_count": null,
      "metadata": {
        "id": "ubKznG4JC4rW"
      },
      "outputs": [],
      "source": [
        "import pandas as pd\n",
        "\n",
        "df = pd.read_csv('titanic.csv')\n",
        "filter1 = df.loc[(df['Sex'] == 'female') & (df['Pclass'] == 1) & (df['Survived'] == 1)]\n",
        "result = filter1[['Name', 'Age', 'Sex', 'Pclass', 'Survived']]\n",
        "result = result.sort_values('Name')\n",
        "result.to_csv('titanic_result.csv', index=False)"
      ]
    }
  ]
}